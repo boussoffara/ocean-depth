{
 "cells": [
  {
   "cell_type": "code",
   "execution_count": 1,
   "metadata": {
    "collapsed": false
   },
   "outputs": [
    {
     "name": "stderr",
     "output_type": "stream",
     "text": [
      "Using TensorFlow backend.\n"
     ]
    }
   ],
   "source": [
    "import itertools\n",
    "import gc\n",
    "from bib import *\n",
    "import numpy as np\n",
    "import pandas as pd\n",
    "from keras.callbacks import EarlyStopping\n",
    "from keras.models import Sequential\n",
    "from keras import backend as K \n",
    "from keras import  activations\n",
    "from keras.utils.generic_utils import get_custom_objects\n",
    "from keras.layers import Dense, Activation, regularizers,BatchNormalization,Dropout\n",
    "import tensorflow as tf\n",
    "from  tqdm import tqdm_notebook\n",
    "tf.logging.set_verbosity(tf.logging.ERROR)"
   ]
  },
  {
   "cell_type": "code",
   "execution_count": 2,
   "metadata": {
    "collapsed": false
   },
   "outputs": [],
   "source": [
    "eps=np.finfo(np.float32).eps\n",
    "xtrains,ytrains,xvals,yvals,xtest,ytest=split(('CHL 1','THERM 1','SSH','SR','WS'),\n",
    "                                               ['CHL '+ str(i) for i in range(2,19)])\n",
    "ytrains,yvals,ytest=applyToy(lambda x:np.log(x)/np.log(10),ytrains,yvals,ytest)"
   ]
  },
  {
   "cell_type": "code",
   "execution_count": 3,
   "metadata": {
    "collapsed": false
   },
   "outputs": [],
   "source": [
    "def custom_activation(x):\n",
    "    return K.exp( x * np.log(10)+eps)+eps\n",
    "get_custom_objects().update({'custom_activation': Activation(custom_activation)})\n",
    "def generate(arch,act):\n",
    "    layers=[]\n",
    "    for index,size in enumerate(arch):\n",
    "        if index ==0:\n",
    "            layers.append(Dense(size, input_shape=(5,),activation=act[index]))\n",
    "#             layers.append(BatchNormalization())\n",
    "\n",
    "        else:\n",
    "            layers.append(Dense(size,activation=act[index]))\n",
    "#             layers.append(Dropout(0.3))\n",
    "    layers.append(Dense(17,activation='linear',kernel_regularizer=regularizers.l2(0.01)))\n",
    "    model = Sequential(layers)\n",
    "    model.compile(optimizer='adam',\n",
    "              loss='mse')\n",
    "    return model\n",
    "callbacks = [EarlyStopping(monitor='val_loss', patience=15)]"
   ]
  },
  {
   "cell_type": "code",
   "execution_count": 4,
   "metadata": {
    "collapsed": false,
    "scrolled": false
   },
   "outputs": [],
   "source": [
    "def validate(arch,act,xtrains,ytrains,xvals,yvals):\n",
    "    fold_evaluation=[]\n",
    "    for xt,yt,xv,yv in tqdm_notebook(zip(xtrains,ytrains,xvals,yvals),total=len(xtrains)):\n",
    "        model=generate(arch,act)\n",
    "        \n",
    "        mean=xt.mean()\n",
    "        std=xt.std()\n",
    "        \n",
    "        xt=(xt-mean)/std\n",
    "        xv=(xv-mean)/std\n",
    "        \n",
    "        \n",
    "#         yt=np.exp(yt*np.log(10))-eps\n",
    "#         yv=np.exp(yv*np.log(10))-eps\n",
    "        \n",
    "        \n",
    "        model.fit(xt.values,yt.values,\n",
    "                  epochs=10000,\n",
    "                  callbacks=callbacks,\n",
    "                  verbose=0,\n",
    "                  batch_size=73*10, \n",
    "                  validation_data=(xv.values,yv.values))\n",
    "        \n",
    "        yp = model.predict(xv.values)\n",
    "        \n",
    "        #check error in original space\n",
    "        \n",
    "        yp=np.exp(yp*np.log(10))\n",
    "        yv=np.exp(yv*np.log(10))       \n",
    "        fold_evaluation.append(evaluate(yp,yv))\n",
    "        print(evaluate(yp,yv))\n",
    "        \n",
    "    return np.mean(fold_evaluation),np.std(fold_evaluation )\n"
   ]
  },
  {
   "cell_type": "code",
   "execution_count": null,
   "metadata": {
    "collapsed": false,
    "scrolled": false
   },
   "outputs": [
    {
     "name": "stdout",
     "output_type": "stream",
     "text": [
      "ARCH :(1000, 500, 500, 500, 1000, 2000)\n"
     ]
    }
   ],
   "source": [
    "arch=(1000, 500, 500, 500, 1000, 2000)\n",
    "K.clear_session()\n",
    "print('ARCH :'+ str(arch))\n",
    "# print('ACT :'+ str(act))\n",
    "error,std=validate(arch,['softplus']*len(arch),xtrains,ytrains,xvals,yvals)\n",
    "print('\\t error: %.5f +- %.5f' % (error,std))"
   ]
  },
  {
   "cell_type": "markdown",
   "metadata": {},
   "source": [
    "stock p 5:\n",
    "ARCH :(100, 50, 50, 200)\n",
    "\t error: 0.06484 +- 0.01960\n",
    "l2 reg 0.01 p5\n",
    "ARCH :(100, 50, 50, 200)\n",
    "\t error: 0.11383 +- 0.01972\n",
    "l2 reg 0.01 p15:\n",
    "ARCH :(100, 50, 50, 200)\n",
    "\t error: 0.11171 +- 0.02045\n",
    "l1 reg 0.01\n",
    "ARCH :(100, 50, 50, 200)\n",
    "\t error: 0.16010 +- 0.01883\n",
    "batchnorm\n",
    "ARCH :(100, 50, 50, 200)\n",
    "\t error: 0.06487 +- 0.01954\n",
    "dropout 0.5 +bn\n",
    "ARCH :(100, 50, 50, 200)\n",
    "\t error: 0.07713 +- 0.02090\n",
    "10x dropout 0.5 +bn\n",
    "ARCH :(1000, 500, 500, 2000)\n",
    "    error: 0.06316 +- 0.02064\n",
    "10x dropout 0.1 +bn\n",
    "ARCH :(1000, 500, 500, 2000)\n",
    "    error: 0.06272 +- 0.01884\n",
    "droput 0.3:\n",
    "ARCH :(1000, 2000, 2000, 2000)\n",
    "    error: 0.06066 +- 0.02155\n",
    "    \n",
    "10x+ stock p 15:\n",
    "ARCH :(1000, 500, 1000, 2000)\n",
    "    error: 0.05996 +- 0.02092\n",
    "ARCH :(1000, 500, 500, 1000, 2000, 2000)\n",
    "\t error: 0.06020 +- 0.02042    \n",
    "ARCH :(1000, 1000, 2000, 2000)\n",
    "    error: 0.06035 +- 0.02012\n",
    "ARCH :(1000, 500, 1000, 1000, 1000, 2000)\n",
    "\t error: 0.06070 +- 0.02034\n",
    "ARCH :(1000, 500, 500, 500, 1000, 2000)\n",
    "\t error: 0.05959 +- 0.01974\n",
    "ARCH :(1000, 500, 500, 500, 500, 1000, 2000)\n",
    "\t error: 0.06135 +- 0.02048\n",
    "ARCH :(1000, 500, 500, 1000, 1000, 2000)\n",
    "\t error: 0.05913 +- 0.01918\n",
    "ARCH :(1000, 500, 500, 1000, 1000, 2000)\n",
    "\t error: 0.06173 +- 0.01997\n",
    "ARCH :(1000, 500, 500, 1000, 1000, 2000)\n",
    "\t error: 0.06152 +- 0.01935\n",
    "ARCH :(1000, 500, 500, 500, 1000, 2000)\n",
    "\t error: 0.06073 +- 0.02006\n",
    "ARCH :(1000, 500, 500, 500, 1000, 2000)\n",
    "\t error: 0.05953 +- 0.02005\n",
    "\n",
    "\n",
    "custom act + relu:\n",
    "ARCH :(1000, 500, 500, 500, 1000, 2000)\n",
    "\t error: 0.06847 +- 0.02292\n",
    "relu + custom act + relu:\n",
    "ARCH :(1000, 500, 500, 500, 1000, 2000)\n",
    "     error: 0.08397 +- 0.03275\n",
    "relu + custom act +eps:\n",
    "ARCH :(1000, 500, 500, 500, 1000, 2000)     \n",
    "\t error: 0.06192 +- 0.01834\n",
    "\n",
    "elu +elu no norm\n",
    "ARCH :(1000, 500, 500, 500, 1000, 2000)     \n",
    "     \t error: 0.06278 +- 0.01850\n",
    "elu +lin no norm\n",
    "         error: 0.06157 +- 0.01891\n",
    "elu +lin  norm      \n",
    "         error: 0.06379 +- 0.02247"
   ]
  },
  {
   "cell_type": "code",
   "execution_count": null,
   "metadata": {
    "collapsed": false
   },
   "outputs": [],
   "source": [
    "# layersN=[1,2,3,4,5,6,7]\n",
    "# neuronsN=[10,30,50,100,200,500,1000]\n",
    "# acts=['relu','sigmoid','softplus','linear']\n",
    "# results=[]\n",
    "# for N in layersN :\n",
    "#     arch=[]\n",
    "#     act=[]\n",
    "#     for arch in itertools.combinations(neuronsN, N):\n",
    "#         for act in itertools.combinations(acts, N+1):\n",
    " \n",
    "#                 print('ARCH :'+ str(arch))\n",
    "#                 print('ACT :'+ str(act))\n",
    "#                 error,std=validate(arch,act,xtrains,ytrains,xvals,yvals)\n",
    "#                 print('\\t error: %.5f +- %.5f' % (error,std))\n",
    "#                 results.append([arch,act,error,std])\n",
    "#                 gc.collect()\n",
    "        "
   ]
  },
  {
   "cell_type": "code",
   "execution_count": null,
   "metadata": {
    "collapsed": false
   },
   "outputs": [],
   "source": [
    "dense\n",
    "dense +reg\n",
    "dense + end with conv\n"
   ]
  },
  {
   "cell_type": "code",
   "execution_count": null,
   "metadata": {
    "collapsed": true
   },
   "outputs": [],
   "source": []
  }
 ],
 "metadata": {
  "anaconda-cloud": {},
  "kernelspec": {
   "display_name": "Python [conda root]",
   "language": "python",
   "name": "conda-root-py"
  },
  "language_info": {
   "codemirror_mode": {
    "name": "ipython",
    "version": 3
   },
   "file_extension": ".py",
   "mimetype": "text/x-python",
   "name": "python",
   "nbconvert_exporter": "python",
   "pygments_lexer": "ipython3",
   "version": "3.5.2"
  },
  "varInspector": {
   "cols": {
    "lenName": 16,
    "lenType": 16,
    "lenVar": 40
   },
   "kernels_config": {
    "python": {
     "delete_cmd_postfix": "",
     "delete_cmd_prefix": "del ",
     "library": "var_list.py",
     "varRefreshCmd": "print(var_dic_list())"
    },
    "r": {
     "delete_cmd_postfix": ") ",
     "delete_cmd_prefix": "rm(",
     "library": "var_list.r",
     "varRefreshCmd": "cat(var_dic_list()) "
    }
   },
   "position": {
    "height": "387px",
    "left": "727.143px",
    "right": "20px",
    "top": "120px",
    "width": "350px"
   },
   "types_to_exclude": [
    "module",
    "function",
    "builtin_function_or_method",
    "instance",
    "_Feature"
   ],
   "window_display": false
  },
  "widgets": {
   "state": {
    "1fc1316671944b8683bba3eee3364592": {
     "views": [
      {
       "cell_index": 4
      }
     ]
    }
   },
   "version": "1.2.0"
  }
 },
 "nbformat": 4,
 "nbformat_minor": 1
}
