{
 "cells": [
  {
   "cell_type": "code",
   "execution_count": 1,
   "metadata": {},
   "outputs": [
    {
     "name": "stderr",
     "output_type": "stream",
     "text": [
      "Using TensorFlow backend.\n"
     ]
    }
   ],
   "source": [
    "import itertools\n",
    "import gc\n",
    "from bib import *\n",
    "import numpy as np\n",
    "import pandas as pd\n",
    "from keras.callbacks import EarlyStopping\n",
    "from keras.models import Sequential\n",
    "from keras import backend as K \n",
    "from keras import  activations\n",
    "from keras.utils.generic_utils import get_custom_objects\n",
    "from keras.layers import Dense, Activation, regularizers,LSTM,Bidirectional,CuDNNLSTM\n",
    "import tensorflow as tf\n",
    "from  tqdm import tqdm_notebook\n",
    "tf.logging.set_verbosity(tf.logging.ERROR)"
   ]
  },
  {
   "cell_type": "code",
   "execution_count": 2,
   "metadata": {},
   "outputs": [
    {
     "data": {
      "application/vnd.jupyter.widget-view+json": {
       "model_id": "97df1241981a45cd823a23e7392abe38",
       "version_major": 2,
       "version_minor": 0
      },
      "text/plain": [
       "HBox(children=(IntProgress(value=0, max=15), HTML(value='')))"
      ]
     },
     "metadata": {},
     "output_type": "display_data"
    },
    {
     "name": "stdout",
     "output_type": "stream",
     "text": [
      "\n"
     ]
    }
   ],
   "source": [
    "xtrains,ytrains,xvals,yvals,xtest,ytest=rnnSplit(15, ('CHL 1','THERM 1','SSH','SR','WS'),\n",
    "                                               ['CHL '+ str(i) for i in range(2,19)])\n",
    "ytrains,yvals,ytest=applyToy(lambda x:np.log(x)/np.log(10),ytrains,yvals,ytest)"
   ]
  },
  {
   "cell_type": "code",
   "execution_count": 21,
   "metadata": {},
   "outputs": [],
   "source": [
    "def generate():\n",
    "    layers=[]\n",
    "    layers.append(Bidirectional(LSTM(100,input_shape=(15,5),activation='softplus',return_sequences=True),\n",
    "                                merge_mode='ave',input_shape=(15,5)))\n",
    "    layers.append(Bidirectional(LSTM(100,input_shape=(15,5),activation='softplus',return_sequences=True),\n",
    "                                merge_mode='ave',input_shape=(15,5)))\n",
    "    layers.append(Dense(17,activation='linear',kernel_regularizer=regularizers.l2(0.01)))\n",
    "    model = Sequential(layers)\n",
    "    model.compile(optimizer='rmsprop',\n",
    "              loss='mse')\n",
    "    model._make_predict_function()\n",
    "    return model\n",
    "callbacks = [EarlyStopping(monitor='val_loss', patience=150)]"
   ]
  },
  {
   "cell_type": "code",
   "execution_count": 8,
   "metadata": {},
   "outputs": [],
   "source": [
    "def validate(xtrains,ytrains,xvals,yvals):\n",
    "    fold_evaluation=[]\n",
    "    for xt,yt,xv,yv in tqdm_notebook(zip(xtrains,ytrains,xvals,yvals),total=len(xtrains)):\n",
    "        model=generate()\n",
    "        \n",
    "#         mean=xt.mean()\n",
    "#         std=xt.std()\n",
    "        \n",
    "#         xt=(xt-mean)/std\n",
    "#         xv=(xv-mean)/std\n",
    "        \n",
    "        \n",
    "        yt=np.exp(yt*np.log(10))\n",
    "        yv=np.exp(yv*np.log(10))        \n",
    "        \n",
    "        model.fit(xt,yt,\n",
    "                  #epochs=10000000,\n",
    "                  epochs=10,\n",
    "                  callbacks=callbacks,\n",
    "                  verbose=0,\n",
    "                  batch_size=73*10, \n",
    "                  validation_data=(xv,yv))\n",
    "        \n",
    "        yp = model.predict(xv)\n",
    "        #check error in original space\n",
    "        \n",
    "#         yp=np.exp(yp*np.log(10))\n",
    "#         yv=np.exp(yv*np.log(10))       \n",
    "        fold_evaluation.append(evaluate(yp.reshape(-1),yv.reshape(-1)))\n",
    "        print(evaluate(yp.reshape(-1),yv.reshape(-1)))\n",
    "        \n",
    "    return np.mean(fold_evaluation),np.std(fold_evaluation )\n"
   ]
  },
  {
   "cell_type": "code",
   "execution_count": 6,
   "metadata": {
    "scrolled": true
   },
   "outputs": [
    {
     "name": "stdout",
     "output_type": "stream",
     "text": [
      "Train on 531 samples, validate on 59 samples\n",
      "Epoch 1/10\n",
      "531/531 [==============================] - 4s 8ms/step - loss: 367.2632 - val_loss: 238.8194\n",
      "Epoch 2/10\n",
      "531/531 [==============================] - 0s 929us/step - loss: 234.3964 - val_loss: 182.2807\n",
      "Epoch 3/10\n",
      "531/531 [==============================] - 0s 926us/step - loss: 177.3677 - val_loss: 119.4188\n",
      "Epoch 4/10\n",
      "531/531 [==============================] - 0s 936us/step - loss: 116.4657 - val_loss: 50.0241\n",
      "Epoch 5/10\n",
      "531/531 [==============================] - 0s 917us/step - loss: 47.4946 - val_loss: 37.2660\n",
      "Epoch 6/10\n",
      "531/531 [==============================] - 0s 919us/step - loss: 35.0788 - val_loss: 26.9930\n",
      "Epoch 7/10\n",
      "531/531 [==============================] - 0s 925us/step - loss: 25.6705 - val_loss: 21.3962\n",
      "Epoch 8/10\n",
      "531/531 [==============================] - 1s 1ms/step - loss: 20.3335 - val_loss: 16.8512\n",
      "Epoch 9/10\n",
      "531/531 [==============================] - 0s 933us/step - loss: 15.4511 - val_loss: 14.9411\n",
      "Epoch 10/10\n",
      "531/531 [==============================] - 0s 924us/step - loss: 13.0424 - val_loss: 13.6628\n"
     ]
    },
    {
     "data": {
      "text/plain": [
       "<keras.callbacks.History at 0x7f0cae7bbb38>"
      ]
     },
     "execution_count": 6,
     "metadata": {},
     "output_type": "execute_result"
    }
   ],
   "source": [
    "K.clear_session()\n",
    "layers=[]\n",
    "layers.append(Bidirectional(LSTM(100,input_shape=(15,5),activation='softplus',return_sequences=True),\n",
    "                            merge_mode='ave',input_shape=(15,5)))\n",
    "layers.append(Bidirectional(LSTM(100,input_shape=(15,5),activation='softplus',return_sequences=True),\n",
    "                            merge_mode='ave',input_shape=(15,5)))\n",
    "layers.append(Dense(17,activation='linear',kernel_regularizer=regularizers.l2(0.01)))\n",
    "model = Sequential(layers)\n",
    "model.compile(optimizer='rmsprop',\n",
    "          loss='mse')\n",
    "\n",
    "\n",
    "model.fit(xtrains[0],np.exp(ytrains[0]*np.log(10)),\n",
    "          epochs=10,\n",
    "          callbacks=callbacks,\n",
    "          verbose=1,\n",
    "          batch_size=73*10, \n",
    "          validation_data=(xvals[0],np.exp(yvals[0]*np.log(10))))"
   ]
  },
  {
   "cell_type": "code",
   "execution_count": 10,
   "metadata": {},
   "outputs": [
    {
     "data": {
      "application/vnd.jupyter.widget-view+json": {
       "model_id": "f63e1f43bf7445de987a84c45522edff",
       "version_major": 2,
       "version_minor": 0
      },
      "text/plain": [
       "HBox(children=(IntProgress(value=0, max=15), HTML(value='')))"
      ]
     },
     "metadata": {},
     "output_type": "display_data"
    },
    {
     "name": "stdout",
     "output_type": "stream",
     "text": [
      "1.724900106494487\n",
      "0.9415060403967487\n",
      "0.511121903978202\n",
      "2.6795160535462657\n",
      "1.0799391291770166\n",
      "0.4610785461047105\n",
      "0.7122998667203135\n",
      "0.6074455653495955\n",
      "0.40586797951703096\n",
      "0.1831031903402495\n",
      "0.36910353747986213\n",
      "0.17429001280625195\n",
      "0.18516877777210872\n",
      "0.24273128011719594\n",
      "0.14548139213348774\n",
      "\t error: 0.69490 +- 0.67300\n"
     ]
    }
   ],
   "source": [
    "\n",
    "K.clear_session()\n",
    "\n",
    "# print('ACT :'+ str(act))\n",
    "error,std=validate(xtrains,ytrains,xvals,yvals)\n",
    "print('\\t error: %.5f +- %.5f' % (error,std))"
   ]
  },
  {
   "cell_type": "code",
   "execution_count": 22,
   "metadata": {},
   "outputs": [
    {
     "data": {
      "text/plain": [
       "<keras.callbacks.History at 0x7f0c3e3f6828>"
      ]
     },
     "execution_count": 22,
     "metadata": {},
     "output_type": "execute_result"
    }
   ],
   "source": [
    "model = generate()\n",
    "\n",
    "model.fit(xtrains[14], ytrains[14], epochs=10,\n",
    "                  callbacks=callbacks,\n",
    "                  verbose=0,\n",
    "                  batch_size=73*10, \n",
    "                  validation_data=(xvals[14],yvals[14]))"
   ]
  },
  {
   "cell_type": "code",
   "execution_count": 32,
   "metadata": {},
   "outputs": [
    {
     "name": "stdout",
     "output_type": "stream",
     "text": [
      "0.14357596606025352\n"
     ]
    }
   ],
   "source": [
    "yp = model.predict(xtest)\n",
    "print(evaluate(np.exp(yp.reshape(-1)*np.log(10)),np.exp(ytest.reshape(-1)*np.log(10))))"
   ]
  }
 ],
 "metadata": {
  "anaconda-cloud": {},
  "kernelspec": {
   "display_name": "Python 3",
   "language": "python",
   "name": "python3"
  },
  "language_info": {
   "codemirror_mode": {
    "name": "ipython",
    "version": 3
   },
   "file_extension": ".py",
   "mimetype": "text/x-python",
   "name": "python",
   "nbconvert_exporter": "python",
   "pygments_lexer": "ipython3",
   "version": "3.6.8"
  },
  "varInspector": {
   "cols": {
    "lenName": 16,
    "lenType": 16,
    "lenVar": 40
   },
   "kernels_config": {
    "python": {
     "delete_cmd_postfix": "",
     "delete_cmd_prefix": "del ",
     "library": "var_list.py",
     "varRefreshCmd": "print(var_dic_list())"
    },
    "r": {
     "delete_cmd_postfix": ") ",
     "delete_cmd_prefix": "rm(",
     "library": "var_list.r",
     "varRefreshCmd": "cat(var_dic_list()) "
    }
   },
   "types_to_exclude": [
    "module",
    "function",
    "builtin_function_or_method",
    "instance",
    "_Feature"
   ],
   "window_display": false
  },
  "widgets": {
   "state": {
    "383a4b3cd65d426c9a72ed07190bd3be": {
     "views": [
      {
       "cell_index": 1
      }
     ]
    }
   },
   "version": "1.2.0"
  }
 },
 "nbformat": 4,
 "nbformat_minor": 1
}
