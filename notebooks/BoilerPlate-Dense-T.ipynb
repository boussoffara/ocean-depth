{
 "cells": [
  {
   "cell_type": "code",
   "execution_count": 1,
   "metadata": {
    "collapsed": false
   },
   "outputs": [
    {
     "name": "stderr",
     "output_type": "stream",
     "text": [
      "Using TensorFlow backend.\n"
     ]
    }
   ],
   "source": [
    "import itertools\n",
    "import gc\n",
    "from bib import *\n",
    "import numpy as np\n",
    "import pandas as pd\n",
    "from keras.callbacks import EarlyStopping\n",
    "from keras.models import Sequential\n",
    "from keras import backend as K \n",
    "from keras import  activations\n",
    "from keras.utils.generic_utils import get_custom_objects\n",
    "from keras.layers import Dense, Activation, regularizers,BatchNormalization,Dropout\n",
    "import tensorflow as tf\n",
    "from  tqdm import tqdm_notebook\n",
    "tf.logging.set_verbosity(tf.logging.ERROR)"
   ]
  },
  {
   "cell_type": "code",
   "execution_count": 2,
   "metadata": {
    "collapsed": false
   },
   "outputs": [],
   "source": [
    "eps=np.finfo(np.float32).eps\n",
    "xtrains,ytrains,xvals,yvals,xtest,ytest=split(('CHL 1','THERM 1','SSH','SR','WS','5days','longitude','latitude'),\n",
    "                                               ['CHL '+ str(i) for i in range(2,19)])\n",
    "ytrains,yvals,ytest=applyToy(lambda x:np.log(x)/np.log(10),ytrains,yvals,ytest)"
   ]
  },
  {
   "cell_type": "code",
   "execution_count": 3,
   "metadata": {
    "collapsed": false
   },
   "outputs": [],
   "source": [
    "for xt,xv in zip(xtrains,xvals):\n",
    "    xt['cosT']=np.cos(np.pi*2*xt['5days']/73)\n",
    "    xt['sinT']=np.sin(np.pi*2*xt['5days']/73)\n",
    "    xv['cosT']=np.cos(np.pi*2*xv['5days']/73)\n",
    "    xv['sinT']=np.sin(np.pi*2*xv['5days']/73)\n",
    "    \n",
    "    \n",
    "    xt['t.5d']=xt['THERM 1']*xt['5days']\n",
    "    xv['t.5d']=xv['THERM 1']*xv['5days']\n",
    "    xt['t.5d']=xt['THERM 1']*xt['latitude']\n",
    "    xv['t.5d']=xv['THERM 1']*xv['latitude']\n",
    "    \n",
    "    \n",
    "    xt.drop('5days', 1,inplace=True)\n",
    "    xv.drop('5days', 1,inplace=True)\n",
    "\n",
    "    \n",
    "    \n",
    "    \n",
    "xtest['cosT']=np.cos(np.pi*2*xtest['5days']/73)\n",
    "xtest['sinT']=np.sin(np.pi*2*xtest['5days']/73)\n",
    "xtest.drop('5days', 1,inplace=True)"
   ]
  },
  {
   "cell_type": "code",
   "execution_count": null,
   "metadata": {
    "collapsed": false
   },
   "outputs": [],
   "source": []
  },
  {
   "cell_type": "code",
   "execution_count": 7,
   "metadata": {
    "collapsed": false
   },
   "outputs": [],
   "source": [
    "\n",
    "def generate(arch,act):\n",
    "    layers=[]\n",
    "    for index,size in enumerate(arch):\n",
    "        if index ==0:\n",
    "            layers.append(Dense(size, input_shape=(10,),activation=act[index]))\n",
    "#             layers.append(BatchNormalization())\n",
    "\n",
    "        else:\n",
    "            layers.append(Dense(size,activation=act[index]))\n",
    "#             layers.append(Dropout(0.3))\n",
    "    layers.append(Dense(17,activation='linear',kernel_regularizer=regularizers.l2(0.01)))\n",
    "    model = Sequential(layers)\n",
    "    model.compile(optimizer='Adam',\n",
    "              loss='mse')\n",
    "    return model\n",
    "callbacks = [EarlyStopping(monitor='val_loss', patience=15)]"
   ]
  },
  {
   "cell_type": "code",
   "execution_count": 8,
   "metadata": {
    "collapsed": false,
    "scrolled": false
   },
   "outputs": [],
   "source": [
    "def validate(arch,act,xtrains,ytrains,xvals,yvals):\n",
    "    fold_evaluation=[]\n",
    "    for xt,yt,xv,yv in tqdm_notebook(zip(xtrains,ytrains,xvals,yvals),total=len(xtrains)):\n",
    "        model=generate(arch,act)\n",
    "        \n",
    "        mean=xt.mean()\n",
    "        std=xt.std()\n",
    "        \n",
    "        xt=(xt-mean)/std\n",
    "        xv=(xv-mean)/std\n",
    "        \n",
    "        \n",
    "#         yt=np.exp(yt*np.log(10))-eps\n",
    "#         yv=np.exp(yv*np.log(10))-eps\n",
    "        \n",
    "        \n",
    "        model.fit(xt.values,yt.values,\n",
    "                  epochs=10000,\n",
    "                  callbacks=callbacks,\n",
    "                  verbose=0,\n",
    "                  batch_size=73*10, \n",
    "                  validation_data=(xv.values,yv.values))\n",
    "        \n",
    "        yp = model.predict(xv.values)\n",
    "        \n",
    "        #check error in original space\n",
    "        \n",
    "        yp=np.exp(yp*np.log(10))\n",
    "        yv=np.exp(yv*np.log(10))       \n",
    "        fold_evaluation.append(evaluate(yp,yv))\n",
    "        print(evaluate(yp,yv))\n",
    "        \n",
    "    return np.mean(fold_evaluation),np.std(fold_evaluation )\n"
   ]
  },
  {
   "cell_type": "code",
   "execution_count": 11,
   "metadata": {
    "collapsed": false,
    "scrolled": false
   },
   "outputs": [
    {
     "name": "stdout",
     "output_type": "stream",
     "text": [
      "ARCH :(1000, 500, 500, 500, 1000, 2000)\n",
      "0.05963295032761503\n",
      "0.061527533069926095\n",
      "0.058198062935206414\n",
      "0.10962035905821053\n",
      "0.09729015839003431\n",
      "0.06527183408117691\n",
      "0.0423510352414553\n",
      "0.06591719539368046\n",
      "0.047828707651910364\n",
      "0.03800254466227275\n",
      "0.04161946417921301\n",
      "0.07145351261827264\n",
      "0.03387871669742635\n",
      "0.05672203472582175\n",
      "0.05349774247740088\n",
      "0.0503072701315018\n",
      "\n",
      "\t error: 0.05957 +- 0.01962\n"
     ]
    }
   ],
   "source": [
    "arch=(1000, 500, 500, 500, 1000, 2000)\n",
    "K.clear_session()\n",
    "print('ARCH :'+ str(arch)) \n",
    "# print('ACT :'+ str(act))\n",
    "error,std=validate(arch,['softplus']*len(arch),xtrains,ytrains,xvals,yvals)\n",
    "print('\\t error: %.5f +- %.5f' % (error,std))"
   ]
  },
  {
   "cell_type": "markdown",
   "metadata": {},
   "source": [
    "cos+sin 5days\n",
    "ARCH :(1000, 500, 500, 500, 1000, 2000)\n",
    "    error: 0.05983 +- 0.02043\n",
    "ARCH :(1000, 500, 500, 500, 1000, 2000)\n",
    "    error: 0.05957 +- 0.01907\n",
    "cos+sin 5days + year\n",
    "ARCH :(1000, 500, 500, 500, 1000, 2000)\n",
    "     error: 0.05895 +- 0.01805\n",
    "\t error: 0.05697 +- 0.01715\n",
    "cos+sin 5days + year+ space\n",
    "ARCH :(1000, 500, 500, 500, 1000, 2000)\n",
    "      error: 0.05603 +- 0.01869\n",
    "      \n",
    "cos+sin 5days +space\n",
    "ARCH :(1000, 500, 500, 500, 1000, 2000)\n",
    "     error: 0.05930 +- 0.01841\n",
    "cos+sin 5days + atitude no ws     \n",
    "     error: 0.05950 +- 0.01988"
   ]
  },
  {
   "cell_type": "markdown",
   "metadata": {
    "collapsed": false
   },
   "source": [
    "+ vars\n",
    "error: 0.05868 +- 0.02006\n",
    "error: 0.05727 +- 0.01928\n",
    "error: 0.05957 +- 0.01962"
   ]
  },
  {
   "cell_type": "code",
   "execution_count": null,
   "metadata": {
    "collapsed": false
   },
   "outputs": [],
   "source": []
  },
  {
   "cell_type": "code",
   "execution_count": null,
   "metadata": {
    "collapsed": true
   },
   "outputs": [],
   "source": []
  },
  {
   "cell_type": "code",
   "execution_count": null,
   "metadata": {
    "collapsed": false
   },
   "outputs": [],
   "source": []
  }
 ],
 "metadata": {
  "anaconda-cloud": {},
  "kernelspec": {
   "display_name": "Python [conda root]",
   "language": "python",
   "name": "conda-root-py"
  },
  "language_info": {
   "codemirror_mode": {
    "name": "ipython",
    "version": 3
   },
   "file_extension": ".py",
   "mimetype": "text/x-python",
   "name": "python",
   "nbconvert_exporter": "python",
   "pygments_lexer": "ipython3",
   "version": "3.5.2"
  },
  "varInspector": {
   "cols": {
    "lenName": 16,
    "lenType": 16,
    "lenVar": 40
   },
   "kernels_config": {
    "python": {
     "delete_cmd_postfix": "",
     "delete_cmd_prefix": "del ",
     "library": "var_list.py",
     "varRefreshCmd": "print(var_dic_list())"
    },
    "r": {
     "delete_cmd_postfix": ") ",
     "delete_cmd_prefix": "rm(",
     "library": "var_list.r",
     "varRefreshCmd": "cat(var_dic_list()) "
    }
   },
   "position": {
    "height": "387px",
    "left": "727.143px",
    "right": "20px",
    "top": "120px",
    "width": "350px"
   },
   "types_to_exclude": [
    "module",
    "function",
    "builtin_function_or_method",
    "instance",
    "_Feature"
   ],
   "window_display": false
  },
  "widgets": {
   "state": {
    "4d1ac80170bf4e5f84611cd3c7bf4edb": {
     "views": [
      {
       "cell_index": 6
      }
     ]
    }
   },
   "version": "1.2.0"
  }
 },
 "nbformat": 4,
 "nbformat_minor": 1
}
