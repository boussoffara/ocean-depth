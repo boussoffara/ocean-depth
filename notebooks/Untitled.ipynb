{
 "cells": [
  {
   "cell_type": "code",
   "execution_count": 1,
   "metadata": {},
   "outputs": [],
   "source": [
    "import scipy.io\n",
    "import pandas as pd\n",
    "from sklearn.metrics import mean_squared_error\n",
    "dataPath='../data/og/'\n",
    "depth = scipy.io.loadmat(dataPath +'depth.mat')\n",
    "time = scipy.io.loadmat(dataPath +'Vect_time.mat')\n",
    "lb = scipy.io.loadmat(dataPath +'VectLB19922008.mat')"
   ]
  },
  {
   "cell_type": "code",
   "execution_count": 2,
   "metadata": {},
   "outputs": [],
   "source": [
    "labels = [k[0] for k in lb['labels'][0] ]"
   ]
  },
  {
   "cell_type": "code",
   "execution_count": 3,
   "metadata": {
    "scrolled": false
   },
   "outputs": [],
   "source": [
    "# import matlab.engine\n",
    "# eng = matlab.engine.start_matlab()\n",
    "# content = eng.load(dataPath +'depth.mat',nargout=1)"
   ]
  },
  {
   "cell_type": "code",
   "execution_count": 3,
   "metadata": {},
   "outputs": [
    {
     "data": {
      "text/plain": [
       "['SSH',\n",
       " 'CC',\n",
       " 'WS',\n",
       " 'SR',\n",
       " 'THERM 1',\n",
       " 'THERM 2',\n",
       " 'THERM 3',\n",
       " 'THERM 4',\n",
       " 'THERM 5',\n",
       " 'THERM 6',\n",
       " 'THERM 7',\n",
       " 'THERM 8',\n",
       " 'THERM 9',\n",
       " 'THERM 10',\n",
       " 'THERM 11',\n",
       " 'THERM 12',\n",
       " 'THERM 13',\n",
       " 'THERM 14',\n",
       " 'THERM 15',\n",
       " 'THERM 16',\n",
       " 'THERM 17',\n",
       " 'THERM 18',\n",
       " 'CHL 1',\n",
       " 'CHL 2',\n",
       " 'CHL 3',\n",
       " 'CHL 4',\n",
       " 'CHL 5',\n",
       " 'CHL 6',\n",
       " 'CHL 7',\n",
       " 'CHL 8',\n",
       " 'CHL 9',\n",
       " 'CHL 10',\n",
       " 'CHL 11',\n",
       " 'CHL 12',\n",
       " 'CHL 13',\n",
       " 'CHL 14',\n",
       " 'CHL 15',\n",
       " 'CHL 16',\n",
       " 'CHL 17',\n",
       " 'CHL 18',\n",
       " '5days',\n",
       " 'year',\n",
       " 'latitude',\n",
       " 'longitude']"
      ]
     },
     "execution_count": 3,
     "metadata": {},
     "output_type": "execute_result"
    }
   ],
   "source": [
    "labels"
   ]
  },
  {
   "cell_type": "code",
   "execution_count": 8,
   "metadata": {},
   "outputs": [
    {
     "data": {
      "text/plain": [
       "array([[4.99993801e+00],\n",
       "       [1.50002880e+01],\n",
       "       [2.50017586e+01],\n",
       "       [3.50054131e+01],\n",
       "       [4.50133171e+01],\n",
       "       [5.50294991e+01],\n",
       "       [6.50618057e+01],\n",
       "       [7.51255112e+01],\n",
       "       [8.52503662e+01],\n",
       "       [9.54942856e+01],\n",
       "       [1.05969917e+02],\n",
       "       [1.16896240e+02],\n",
       "       [1.28697906e+02],\n",
       "       [1.42195251e+02],\n",
       "       [1.58960617e+02],\n",
       "       [1.81962784e+02],\n",
       "       [2.16647919e+02],\n",
       "       [2.72476715e+02],\n",
       "       [3.64303040e+02],\n",
       "       [5.11534760e+02],\n",
       "       [7.32200867e+02],\n",
       "       [1.03321729e+03],\n",
       "       [1.40569751e+03],\n",
       "       [1.83088501e+03],\n",
       "       [2.28976782e+03],\n",
       "       [2.76824243e+03],\n",
       "       [3.25747876e+03],\n",
       "       [3.75244214e+03],\n",
       "       [4.25040137e+03],\n",
       "       [4.74991309e+03],\n",
       "       [5.25022656e+03]])"
      ]
     },
     "execution_count": 8,
     "metadata": {},
     "output_type": "execute_result"
    }
   ],
   "source": [
    "lb['depth']"
   ]
  },
  {
   "cell_type": "code",
   "execution_count": 3,
   "metadata": {},
   "outputs": [],
   "source": [
    "data=pd.DataFrame(lb['Vect'],columns=labels)"
   ]
  },
  {
   "cell_type": "code",
   "execution_count": 21,
   "metadata": {},
   "outputs": [
    {
     "data": {
      "text/plain": [
       "count    11169.000000\n",
       "mean        33.746396\n",
       "std          1.332223\n",
       "min         32.102028\n",
       "25%         32.115047\n",
       "50%         33.759125\n",
       "75%         35.357800\n",
       "max         35.385258\n",
       "Name: latitude, dtype: float64"
      ]
     },
     "execution_count": 21,
     "metadata": {},
     "output_type": "execute_result"
    }
   ],
   "source": [
    "data['latitude'].describe()"
   ]
  },
  {
   "cell_type": "code",
   "execution_count": 4,
   "metadata": {},
   "outputs": [],
   "source": [
    "import numpy as np"
   ]
  },
  {
   "cell_type": "code",
   "execution_count": 5,
   "metadata": {},
   "outputs": [],
   "source": [
    "dataClean=data[np.logical_and(np.logical_and(np.logical_and(data['latitude']<=33, data['latitude']>=31 ), data['longitude']>=-65 ), data['longitude']<=-63 )]"
   ]
  },
  {
   "cell_type": "code",
   "execution_count": 21,
   "metadata": {},
   "outputs": [
    {
     "data": {
      "text/plain": [
       "array([-64.01246643,  32.10850525])"
      ]
     },
     "execution_count": 21,
     "metadata": {},
     "output_type": "execute_result"
    }
   ],
   "source": [
    "np.unique(dataClean[['latitude','longitude']])"
   ]
  },
  {
   "cell_type": "code",
   "execution_count": 23,
   "metadata": {},
   "outputs": [
    {
     "data": {
      "text/html": [
       "<div>\n",
       "<style scoped>\n",
       "    .dataframe tbody tr th:only-of-type {\n",
       "        vertical-align: middle;\n",
       "    }\n",
       "\n",
       "    .dataframe tbody tr th {\n",
       "        vertical-align: top;\n",
       "    }\n",
       "\n",
       "    .dataframe thead th {\n",
       "        text-align: right;\n",
       "    }\n",
       "</style>\n",
       "<table border=\"1\" class=\"dataframe\">\n",
       "  <thead>\n",
       "    <tr style=\"text-align: right;\">\n",
       "      <th></th>\n",
       "      <th>CHL 2</th>\n",
       "      <th>CHL 3</th>\n",
       "      <th>CHL 4</th>\n",
       "      <th>CHL 5</th>\n",
       "      <th>CHL 6</th>\n",
       "      <th>CHL 7</th>\n",
       "      <th>CHL 8</th>\n",
       "      <th>CHL 9</th>\n",
       "      <th>CHL 10</th>\n",
       "      <th>CHL 11</th>\n",
       "      <th>CHL 12</th>\n",
       "      <th>CHL 13</th>\n",
       "      <th>CHL 14</th>\n",
       "      <th>CHL 15</th>\n",
       "      <th>CHL 16</th>\n",
       "      <th>CHL 17</th>\n",
       "      <th>CHL 18</th>\n",
       "    </tr>\n",
       "  </thead>\n",
       "  <tbody>\n",
       "    <tr>\n",
       "      <th>count</th>\n",
       "      <td>1241.000000</td>\n",
       "      <td>1241.000000</td>\n",
       "      <td>1241.000000</td>\n",
       "      <td>1241.000000</td>\n",
       "      <td>1241.000000</td>\n",
       "      <td>1241.000000</td>\n",
       "      <td>1241.000000</td>\n",
       "      <td>1241.000000</td>\n",
       "      <td>1241.000000</td>\n",
       "      <td>1241.000000</td>\n",
       "      <td>1241.000000</td>\n",
       "      <td>1241.000000</td>\n",
       "      <td>1241.000000</td>\n",
       "      <td>1241.000000</td>\n",
       "      <td>1241.000000</td>\n",
       "      <td>1241.000000</td>\n",
       "      <td>1241.000000</td>\n",
       "    </tr>\n",
       "    <tr>\n",
       "      <th>mean</th>\n",
       "      <td>0.226409</td>\n",
       "      <td>0.232107</td>\n",
       "      <td>0.236087</td>\n",
       "      <td>0.240276</td>\n",
       "      <td>0.250164</td>\n",
       "      <td>0.274411</td>\n",
       "      <td>0.325140</td>\n",
       "      <td>0.372931</td>\n",
       "      <td>0.341809</td>\n",
       "      <td>0.288469</td>\n",
       "      <td>0.244290</td>\n",
       "      <td>0.209890</td>\n",
       "      <td>0.181568</td>\n",
       "      <td>0.155757</td>\n",
       "      <td>0.129758</td>\n",
       "      <td>0.096554</td>\n",
       "      <td>0.051541</td>\n",
       "    </tr>\n",
       "    <tr>\n",
       "      <th>std</th>\n",
       "      <td>0.246338</td>\n",
       "      <td>0.244914</td>\n",
       "      <td>0.229059</td>\n",
       "      <td>0.208107</td>\n",
       "      <td>0.192222</td>\n",
       "      <td>0.192387</td>\n",
       "      <td>0.196060</td>\n",
       "      <td>0.164121</td>\n",
       "      <td>0.124742</td>\n",
       "      <td>0.089193</td>\n",
       "      <td>0.071040</td>\n",
       "      <td>0.068443</td>\n",
       "      <td>0.071981</td>\n",
       "      <td>0.075576</td>\n",
       "      <td>0.077578</td>\n",
       "      <td>0.071018</td>\n",
       "      <td>0.041806</td>\n",
       "    </tr>\n",
       "    <tr>\n",
       "      <th>min</th>\n",
       "      <td>0.045093</td>\n",
       "      <td>0.049199</td>\n",
       "      <td>0.053773</td>\n",
       "      <td>0.059636</td>\n",
       "      <td>0.065188</td>\n",
       "      <td>0.072839</td>\n",
       "      <td>0.096159</td>\n",
       "      <td>0.105677</td>\n",
       "      <td>0.090939</td>\n",
       "      <td>0.082505</td>\n",
       "      <td>0.076526</td>\n",
       "      <td>0.071528</td>\n",
       "      <td>0.067007</td>\n",
       "      <td>0.062992</td>\n",
       "      <td>0.057060</td>\n",
       "      <td>0.044444</td>\n",
       "      <td>0.020857</td>\n",
       "    </tr>\n",
       "    <tr>\n",
       "      <th>25%</th>\n",
       "      <td>0.053295</td>\n",
       "      <td>0.056669</td>\n",
       "      <td>0.060938</td>\n",
       "      <td>0.067097</td>\n",
       "      <td>0.081294</td>\n",
       "      <td>0.118669</td>\n",
       "      <td>0.196411</td>\n",
       "      <td>0.250802</td>\n",
       "      <td>0.250666</td>\n",
       "      <td>0.227655</td>\n",
       "      <td>0.199326</td>\n",
       "      <td>0.165276</td>\n",
       "      <td>0.134891</td>\n",
       "      <td>0.107117</td>\n",
       "      <td>0.080214</td>\n",
       "      <td>0.058297</td>\n",
       "      <td>0.034232</td>\n",
       "    </tr>\n",
       "    <tr>\n",
       "      <th>50%</th>\n",
       "      <td>0.121902</td>\n",
       "      <td>0.135416</td>\n",
       "      <td>0.150082</td>\n",
       "      <td>0.171721</td>\n",
       "      <td>0.209389</td>\n",
       "      <td>0.248775</td>\n",
       "      <td>0.285761</td>\n",
       "      <td>0.316161</td>\n",
       "      <td>0.318786</td>\n",
       "      <td>0.305696</td>\n",
       "      <td>0.265820</td>\n",
       "      <td>0.212737</td>\n",
       "      <td>0.168038</td>\n",
       "      <td>0.130619</td>\n",
       "      <td>0.098312</td>\n",
       "      <td>0.066760</td>\n",
       "      <td>0.039036</td>\n",
       "    </tr>\n",
       "    <tr>\n",
       "      <th>75%</th>\n",
       "      <td>0.310115</td>\n",
       "      <td>0.311699</td>\n",
       "      <td>0.314076</td>\n",
       "      <td>0.318521</td>\n",
       "      <td>0.326757</td>\n",
       "      <td>0.327721</td>\n",
       "      <td>0.351399</td>\n",
       "      <td>0.502648</td>\n",
       "      <td>0.450372</td>\n",
       "      <td>0.355311</td>\n",
       "      <td>0.297598</td>\n",
       "      <td>0.251126</td>\n",
       "      <td>0.212625</td>\n",
       "      <td>0.176830</td>\n",
       "      <td>0.128299</td>\n",
       "      <td>0.082667</td>\n",
       "      <td>0.048502</td>\n",
       "    </tr>\n",
       "    <tr>\n",
       "      <th>max</th>\n",
       "      <td>1.425225</td>\n",
       "      <td>1.313779</td>\n",
       "      <td>1.339682</td>\n",
       "      <td>1.122280</td>\n",
       "      <td>1.108705</td>\n",
       "      <td>1.296709</td>\n",
       "      <td>1.329790</td>\n",
       "      <td>0.799345</td>\n",
       "      <td>0.611445</td>\n",
       "      <td>0.513631</td>\n",
       "      <td>0.428039</td>\n",
       "      <td>0.427923</td>\n",
       "      <td>0.418451</td>\n",
       "      <td>0.350148</td>\n",
       "      <td>0.350031</td>\n",
       "      <td>0.327595</td>\n",
       "      <td>0.285634</td>\n",
       "    </tr>\n",
       "  </tbody>\n",
       "</table>\n",
       "</div>"
      ],
      "text/plain": [
       "             CHL 2        CHL 3        CHL 4        CHL 5        CHL 6  \\\n",
       "count  1241.000000  1241.000000  1241.000000  1241.000000  1241.000000   \n",
       "mean      0.226409     0.232107     0.236087     0.240276     0.250164   \n",
       "std       0.246338     0.244914     0.229059     0.208107     0.192222   \n",
       "min       0.045093     0.049199     0.053773     0.059636     0.065188   \n",
       "25%       0.053295     0.056669     0.060938     0.067097     0.081294   \n",
       "50%       0.121902     0.135416     0.150082     0.171721     0.209389   \n",
       "75%       0.310115     0.311699     0.314076     0.318521     0.326757   \n",
       "max       1.425225     1.313779     1.339682     1.122280     1.108705   \n",
       "\n",
       "             CHL 7        CHL 8        CHL 9       CHL 10       CHL 11  \\\n",
       "count  1241.000000  1241.000000  1241.000000  1241.000000  1241.000000   \n",
       "mean      0.274411     0.325140     0.372931     0.341809     0.288469   \n",
       "std       0.192387     0.196060     0.164121     0.124742     0.089193   \n",
       "min       0.072839     0.096159     0.105677     0.090939     0.082505   \n",
       "25%       0.118669     0.196411     0.250802     0.250666     0.227655   \n",
       "50%       0.248775     0.285761     0.316161     0.318786     0.305696   \n",
       "75%       0.327721     0.351399     0.502648     0.450372     0.355311   \n",
       "max       1.296709     1.329790     0.799345     0.611445     0.513631   \n",
       "\n",
       "            CHL 12       CHL 13       CHL 14       CHL 15       CHL 16  \\\n",
       "count  1241.000000  1241.000000  1241.000000  1241.000000  1241.000000   \n",
       "mean      0.244290     0.209890     0.181568     0.155757     0.129758   \n",
       "std       0.071040     0.068443     0.071981     0.075576     0.077578   \n",
       "min       0.076526     0.071528     0.067007     0.062992     0.057060   \n",
       "25%       0.199326     0.165276     0.134891     0.107117     0.080214   \n",
       "50%       0.265820     0.212737     0.168038     0.130619     0.098312   \n",
       "75%       0.297598     0.251126     0.212625     0.176830     0.128299   \n",
       "max       0.428039     0.427923     0.418451     0.350148     0.350031   \n",
       "\n",
       "            CHL 17       CHL 18  \n",
       "count  1241.000000  1241.000000  \n",
       "mean      0.096554     0.051541  \n",
       "std       0.071018     0.041806  \n",
       "min       0.044444     0.020857  \n",
       "25%       0.058297     0.034232  \n",
       "50%       0.066760     0.039036  \n",
       "75%       0.082667     0.048502  \n",
       "max       0.327595     0.285634  "
      ]
     },
     "execution_count": 23,
     "metadata": {},
     "output_type": "execute_result"
    }
   ],
   "source": [
    "dataClean[['CHL '+ str(i) for i in range(2,19)]].describe()"
   ]
  },
  {
   "cell_type": "code",
   "execution_count": 37,
   "metadata": {},
   "outputs": [
    {
     "data": {
      "text/plain": [
       "3        1992.0\n",
       "12       1993.0\n",
       "21       1994.0\n",
       "30       1995.0\n",
       "39       1996.0\n",
       "48       1997.0\n",
       "57       1998.0\n",
       "66       1999.0\n",
       "75       2000.0\n",
       "84       2001.0\n",
       "93       2002.0\n",
       "102      2003.0\n",
       "111      2004.0\n",
       "120      2005.0\n",
       "129      2006.0\n",
       "138      2007.0\n",
       "147      2008.0\n",
       "156      1992.0\n",
       "165      1993.0\n",
       "174      1994.0\n",
       "183      1995.0\n",
       "192      1996.0\n",
       "201      1997.0\n",
       "210      1998.0\n",
       "219      1999.0\n",
       "228      2000.0\n",
       "237      2001.0\n",
       "246      2002.0\n",
       "255      2003.0\n",
       "264      2004.0\n",
       "          ...  \n",
       "10902    1996.0\n",
       "10911    1997.0\n",
       "10920    1998.0\n",
       "10929    1999.0\n",
       "10938    2000.0\n",
       "10947    2001.0\n",
       "10956    2002.0\n",
       "10965    2003.0\n",
       "10974    2004.0\n",
       "10983    2005.0\n",
       "10992    2006.0\n",
       "11001    2007.0\n",
       "11010    2008.0\n",
       "11019    1992.0\n",
       "11028    1993.0\n",
       "11037    1994.0\n",
       "11046    1995.0\n",
       "11055    1996.0\n",
       "11064    1997.0\n",
       "11073    1998.0\n",
       "11082    1999.0\n",
       "11091    2000.0\n",
       "11100    2001.0\n",
       "11109    2002.0\n",
       "11118    2003.0\n",
       "11127    2004.0\n",
       "11136    2005.0\n",
       "11145    2006.0\n",
       "11154    2007.0\n",
       "11163    2008.0\n",
       "Name: year, Length: 1241, dtype: float64"
      ]
     },
     "execution_count": 37,
     "metadata": {},
     "output_type": "execute_result"
    }
   ],
   "source": [
    "dataClean['year']"
   ]
  },
  {
   "cell_type": "code",
   "execution_count": 14,
   "metadata": {},
   "outputs": [
    {
     "data": {
      "text/plain": [
       "<matplotlib.axes._subplots.AxesSubplot at 0x7f8280cdc828>"
      ]
     },
     "execution_count": 14,
     "metadata": {},
     "output_type": "execute_result"
    },
    {
     "data": {
      "image/png": "[encoded data removed]",
      "text/plain": [
       "<Figure size 432x288 with 2 Axes>"
      ]
     },
     "metadata": {},
     "output_type": "display_data"
    }
   ],
   "source": [
    "import seaborn as sn\n",
    "\n",
    "cors = np.corrcoef(np.transpose(data[['SSH', 'CC', 'WS', 'SR', 'THERM 1',\n",
    "                                     'CHL 1','5days', 'year', 'latitude', 'longitude']]))\n",
    "sn.heatmap(cors, annot=True, cbar=True, vmin=-1, vmax=1, xticklabels=['SSH', 'CC', 'WS', 'SR', 'THERM 1',\n",
    "                                     'CHL 1','5days', 'year', 'latitude', 'longitude'], yticklabels=['SSH', 'CC', 'WS', 'SR', 'THERM 1',\n",
    "                                     'CHL 1','5days', 'year', 'latitude', 'longitude'], center=0)"
   ]
  },
  {
   "cell_type": "code",
   "execution_count": 13,
   "metadata": {},
   "outputs": [
    {
     "data": {
      "text/plain": [
       "<matplotlib.axes._subplots.AxesSubplot at 0x7f8280deeeb8>"
      ]
     },
     "execution_count": 13,
     "metadata": {},
     "output_type": "execute_result"
    },
    {
     "data": {
      "image/png": "[encoded data removed]",
      "text/plain": [
       "<Figure size 432x288 with 2 Axes>"
      ]
     },
     "metadata": {},
     "output_type": "display_data"
    }
   ],
   "source": [
    "cors = np.corrcoef(np.transpose(dataClean[['SSH', 'CC', 'WS', 'SR', 'THERM 1',\n",
    "                                     'CHL 1','5days', 'year']]))\n",
    "sn.heatmap(cors, annot=True, cbar=True, vmin=-1, vmax=1, xticklabels=['SSH', 'CC', 'WS', 'SR', 'THERM 1',\n",
    "                                     'CHL 1','5days', 'year'], yticklabels=['SSH', 'CC', 'WS', 'SR', 'THERM 1',\n",
    "                                     'CHL 1','5days', 'year'], center=0)"
   ]
  },
  {
   "cell_type": "code",
   "execution_count": 34,
   "metadata": {},
   "outputs": [],
   "source": [
    "X_train=dataClean.loc[dataClean['year']!=2008,('CHL 1','THERM 1','SSH','SR','WS')]\n",
    "X_test=dataClean.loc[dataClean['year']==2008,('CHL 1','THERM 1','SSH','SR','WS')]\n",
    "# X_train\n",
    "Y_train=dataClean.loc[dataClean['year']!=2008,['CHL '+ str(i) for i in range(2,19)]]\n",
    "Y_test=dataClean.loc[dataClean['year']==2008,['CHL '+ str(i) for i in range(2,19)]]"
   ]
  },
  {
   "cell_type": "code",
   "execution_count": 64,
   "metadata": {},
   "outputs": [],
   "source": [
    "def evaluate(y_pred,y_true):\n",
    "    return mean_squared_error(y_true,y_pred)\n",
    "def validate(model, X_train,Y_train):\n",
    "    fold_evaluation=[]\n",
    "    for i in range(1992,2008):\n",
    "        selected = dataClean.loc[dataClean['year']!=2008,'year']!=i \n",
    "        model.fit(X_train[selected],Y_train[selected])\n",
    "        y_pred=model.predict(X_train[np.logical_not( selected ) ])\n",
    "        fold_evaluation.append(evaluate(y_pred,Y_train[np.logical_not( selected )]))\n",
    "    fold_evaluation=np.array(fold_evaluation)\n",
    "    return np.mean(fold_evaluation),np.std(fold_evaluation)"
   ]
  },
  {
   "cell_type": "code",
   "execution_count": 65,
   "metadata": {},
   "outputs": [
    {
     "data": {
      "text/plain": [
       "(0.015335314288645912, 0.005591051445671298)"
      ]
     },
     "execution_count": 65,
     "metadata": {},
     "output_type": "execute_result"
    }
   ],
   "source": [
    "from sklearn.neural_network import MLPRegressor\n",
    "validate(MLPRegressor(), X_train,Y_train)"
   ]
  },
  {
   "cell_type": "code",
   "execution_count": 66,
   "metadata": {},
   "outputs": [],
   "source": [
    "import matplotlib.pyplot as plt"
   ]
  },
  {
   "cell_type": "code",
   "execution_count": null,
   "metadata": {
    "collapsed": true
   },
   "outputs": [],
   "source": [
    "plt.plot(X_train)"
   ]
  }
 ],
 "metadata": {
  "anaconda-cloud": {},
  "kernelspec": {
   "display_name": "Python 3",
   "language": "python",
   "name": "python3"
  },
  "language_info": {
   "codemirror_mode": {
    "name": "ipython",
    "version": 3
   },
   "file_extension": ".py",
   "mimetype": "text/x-python",
   "name": "python",
   "nbconvert_exporter": "python",
   "pygments_lexer": "ipython3",
   "version": "3.6.8"
  },
  "varInspector": {
   "cols": {
    "lenName": 16,
    "lenType": 16,
    "lenVar": 40
   },
   "kernels_config": {
    "python": {
     "delete_cmd_postfix": "",
     "delete_cmd_prefix": "del ",
     "library": "var_list.py",
     "varRefreshCmd": "print(var_dic_list())"
    },
    "r": {
     "delete_cmd_postfix": ") ",
     "delete_cmd_prefix": "rm(",
     "library": "var_list.r",
     "varRefreshCmd": "cat(var_dic_list()) "
    }
   },
   "types_to_exclude": [
    "module",
    "function",
    "builtin_function_or_method",
    "instance",
    "_Feature"
   ],
   "window_display": false
  }
 },
 "nbformat": 4,
 "nbformat_minor": 1
}
