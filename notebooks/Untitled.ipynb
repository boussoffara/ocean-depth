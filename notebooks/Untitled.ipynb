{
 "cells": [
  {
   "cell_type": "code",
   "execution_count": 1,
   "metadata": {
    "collapsed": false
   },
   "outputs": [],
   "source": [
    "import scipy.io\n",
    "import pandas as pd\n",
    "from sklearn.metrics import mean_squared_error\n",
    "dataPath='../data/og/'\n",
    "depth = scipy.io.loadmat(dataPath +'depth.mat')\n",
    "time = scipy.io.loadmat(dataPath +'Vect_time.mat')\n",
    "lb = scipy.io.loadmat(dataPath +'VectLB19922008.mat')"
   ]
  },
  {
   "cell_type": "code",
   "execution_count": 2,
   "metadata": {
    "collapsed": false
   },
   "outputs": [],
   "source": [
    "labels = [k[0] for k in lb['labels'][0] ]"
   ]
  },
  {
   "cell_type": "code",
   "execution_count": 3,
   "metadata": {
    "collapsed": false,
    "scrolled": false
   },
   "outputs": [],
   "source": [
    "# import matlab.engine\n",
    "# eng = matlab.engine.start_matlab()\n",
    "# content = eng.load(dataPath +'depth.mat',nargout=1)"
   ]
  },
  {
   "cell_type": "code",
   "execution_count": null,
   "metadata": {
    "collapsed": false
   },
   "outputs": [],
   "source": [
    "labels"
   ]
  },
  {
   "cell_type": "code",
   "execution_count": 9,
   "metadata": {
    "collapsed": false
   },
   "outputs": [
    {
     "data": {
      "text/plain": [
       "array([[4.99993801e+00],\n",
       "       [1.50002880e+01],\n",
       "       [2.50017586e+01],\n",
       "       [3.50054131e+01],\n",
       "       [4.50133171e+01],\n",
       "       [5.50294991e+01],\n",
       "       [6.50618057e+01],\n",
       "       [7.51255112e+01],\n",
       "       [8.52503662e+01],\n",
       "       [9.54942856e+01],\n",
       "       [1.05969917e+02],\n",
       "       [1.16896240e+02],\n",
       "       [1.28697906e+02],\n",
       "       [1.42195251e+02],\n",
       "       [1.58960617e+02],\n",
       "       [1.81962784e+02],\n",
       "       [2.16647919e+02],\n",
       "       [2.72476715e+02],\n",
       "       [3.64303040e+02],\n",
       "       [5.11534760e+02],\n",
       "       [7.32200867e+02],\n",
       "       [1.03321729e+03],\n",
       "       [1.40569751e+03],\n",
       "       [1.83088501e+03],\n",
       "       [2.28976782e+03],\n",
       "       [2.76824243e+03],\n",
       "       [3.25747876e+03],\n",
       "       [3.75244214e+03],\n",
       "       [4.25040137e+03],\n",
       "       [4.74991309e+03],\n",
       "       [5.25022656e+03]])"
      ]
     },
     "execution_count": 9,
     "metadata": {},
     "output_type": "execute_result"
    }
   ],
   "source": [
    "lb['depth']"
   ]
  },
  {
   "cell_type": "code",
   "execution_count": 4,
   "metadata": {
    "collapsed": false
   },
   "outputs": [],
   "source": [
    "data=pd.DataFrame(lb['Vect'],columns=labels)"
   ]
  },
  {
   "cell_type": "code",
   "execution_count": 5,
   "metadata": {
    "collapsed": true
   },
   "outputs": [],
   "source": [
    "import numpy as np"
   ]
  },
  {
   "cell_type": "code",
   "execution_count": 23,
   "metadata": {
    "collapsed": false
   },
   "outputs": [],
   "source": [
    "dataClean=data[np.logical_and(np.logical_and(np.logical_and(data['latitude']<=33, data['latitude']>=31 ), data['longitude']>=-65 ), data['longitude']<=-63 )]"
   ]
  },
  {
   "cell_type": "code",
   "execution_count": 24,
   "metadata": {
    "collapsed": false
   },
   "outputs": [
    {
     "data": {
      "text/plain": [
       "(1241, 44)"
      ]
     },
     "execution_count": 24,
     "metadata": {},
     "output_type": "execute_result"
    }
   ],
   "source": [
    "dataClean.shape"
   ]
  },
  {
   "cell_type": "code",
   "execution_count": 37,
   "metadata": {
    "collapsed": false
   },
   "outputs": [
    {
     "data": {
      "text/plain": [
       "3        1992.0\n",
       "12       1993.0\n",
       "21       1994.0\n",
       "30       1995.0\n",
       "39       1996.0\n",
       "48       1997.0\n",
       "57       1998.0\n",
       "66       1999.0\n",
       "75       2000.0\n",
       "84       2001.0\n",
       "93       2002.0\n",
       "102      2003.0\n",
       "111      2004.0\n",
       "120      2005.0\n",
       "129      2006.0\n",
       "138      2007.0\n",
       "147      2008.0\n",
       "156      1992.0\n",
       "165      1993.0\n",
       "174      1994.0\n",
       "183      1995.0\n",
       "192      1996.0\n",
       "201      1997.0\n",
       "210      1998.0\n",
       "219      1999.0\n",
       "228      2000.0\n",
       "237      2001.0\n",
       "246      2002.0\n",
       "255      2003.0\n",
       "264      2004.0\n",
       "          ...  \n",
       "10902    1996.0\n",
       "10911    1997.0\n",
       "10920    1998.0\n",
       "10929    1999.0\n",
       "10938    2000.0\n",
       "10947    2001.0\n",
       "10956    2002.0\n",
       "10965    2003.0\n",
       "10974    2004.0\n",
       "10983    2005.0\n",
       "10992    2006.0\n",
       "11001    2007.0\n",
       "11010    2008.0\n",
       "11019    1992.0\n",
       "11028    1993.0\n",
       "11037    1994.0\n",
       "11046    1995.0\n",
       "11055    1996.0\n",
       "11064    1997.0\n",
       "11073    1998.0\n",
       "11082    1999.0\n",
       "11091    2000.0\n",
       "11100    2001.0\n",
       "11109    2002.0\n",
       "11118    2003.0\n",
       "11127    2004.0\n",
       "11136    2005.0\n",
       "11145    2006.0\n",
       "11154    2007.0\n",
       "11163    2008.0\n",
       "Name: year, Length: 1241, dtype: float64"
      ]
     },
     "execution_count": 37,
     "metadata": {},
     "output_type": "execute_result"
    }
   ],
   "source": [
    "dataClean['year']"
   ]
  },
  {
   "cell_type": "code",
   "execution_count": 34,
   "metadata": {
    "collapsed": false
   },
   "outputs": [],
   "source": [
    "X_train=dataClean.loc[dataClean['year']!=2008,('CHL 1','THERM 1','SSH','SR','WS')]\n",
    "X_test=dataClean.loc[dataClean['year']==2008,('CHL 1','THERM 1','SSH','SR','WS')]\n",
    "# X_train\n",
    "Y_train=dataClean.loc[dataClean['year']!=2008,['CHL '+ str(i) for i in range(2,19)]]\n",
    "Y_test=dataClean.loc[dataClean['year']==2008,['CHL '+ str(i) for i in range(2,19)]]"
   ]
  },
  {
   "cell_type": "code",
   "execution_count": 64,
   "metadata": {
    "collapsed": false
   },
   "outputs": [],
   "source": [
    "def evaluate(y_pred,y_true):\n",
    "    return mean_squared_error(y_true,y_pred)\n",
    "def validate(model, X_train,Y_train):\n",
    "    fold_evaluation=[]\n",
    "    for i in range(1992,2008):\n",
    "        selected = dataClean.loc[dataClean['year']!=2008,'year']!=i \n",
    "        model.fit(X_train[selected],Y_train[selected])\n",
    "        y_pred=model.predict(X_train[np.logical_not( selected ) ])\n",
    "        fold_evaluation.append(evaluate(y_pred,Y_train[np.logical_not( selected )]))\n",
    "    fold_evaluation=np.array(fold_evaluation)\n",
    "    return np.mean(fold_evaluation),np.std(fold_evaluation)"
   ]
  },
  {
   "cell_type": "code",
   "execution_count": 65,
   "metadata": {
    "collapsed": false
   },
   "outputs": [
    {
     "data": {
      "text/plain": [
       "(0.015335314288645912, 0.005591051445671298)"
      ]
     },
     "execution_count": 65,
     "metadata": {},
     "output_type": "execute_result"
    }
   ],
   "source": [
    "from sklearn.neural_network import MLPRegressor\n",
    "validate(MLPRegressor(), X_train,Y_train)"
   ]
  },
  {
   "cell_type": "code",
   "execution_count": 66,
   "metadata": {
    "collapsed": false
   },
   "outputs": [],
   "source": [
    "import matplotlib.pyplot as plt"
   ]
  },
  {
   "cell_type": "code",
   "execution_count": null,
   "metadata": {
    "collapsed": true
   },
   "outputs": [],
   "source": [
    "plt.plot(X_train)"
   ]
  }
 ],
 "metadata": {
  "anaconda-cloud": {},
  "kernelspec": {
   "display_name": "Python [conda root]",
   "language": "python",
   "name": "conda-root-py"
  },
  "language_info": {
   "codemirror_mode": {
    "name": "ipython",
    "version": 3
   },
   "file_extension": ".py",
   "mimetype": "text/x-python",
   "name": "python",
   "nbconvert_exporter": "python",
   "pygments_lexer": "ipython3",
   "version": "3.5.2"
  },
  "varInspector": {
   "cols": {
    "lenName": 16,
    "lenType": 16,
    "lenVar": 40
   },
   "kernels_config": {
    "python": {
     "delete_cmd_postfix": "",
     "delete_cmd_prefix": "del ",
     "library": "var_list.py",
     "varRefreshCmd": "print(var_dic_list())"
    },
    "r": {
     "delete_cmd_postfix": ") ",
     "delete_cmd_prefix": "rm(",
     "library": "var_list.r",
     "varRefreshCmd": "cat(var_dic_list()) "
    }
   },
   "types_to_exclude": [
    "module",
    "function",
    "builtin_function_or_method",
    "instance",
    "_Feature"
   ],
   "window_display": false
  }
 },
 "nbformat": 4,
 "nbformat_minor": 1
}
